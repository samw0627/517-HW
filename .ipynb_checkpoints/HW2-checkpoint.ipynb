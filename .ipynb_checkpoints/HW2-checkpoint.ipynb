{
  "nbformat": 4,
  "nbformat_minor": 0,
  "metadata": {
    "colab": {
      "provenance": []
    },
    "kernelspec": {
      "name": "python3",
      "display_name": "Python 3"
    },
    "language_info": {
      "name": "python"
    }
  },
  "cells": [
    {
      "cell_type": "markdown",
      "source": [
        "# HW 2 - Python Template\n",
        "\n"
      ],
      "metadata": {
        "id": "K5a6n6jMq89t"
      }
    },
    {
      "cell_type": "code",
      "source": [
        "import numpy as np\n",
        "import matplotlib.pyplot as plt\n",
        "import scipy.signal as sig\n",
        "from scipy.fft import fft, fftfreq"
      ],
      "metadata": {
        "id": "ZXApBu0xlIH-"
      },
      "execution_count": null,
      "outputs": []
    },
    {
      "cell_type": "markdown",
      "source": [
        "## Part 1: Basic DSP Applications in Python\n",
        "### Task 1. Create a Python script that generates a sine wave with a frequency of 1000 Hz and a duration of 2 seconds. Plot the waveform using the matplotlib library."
      ],
      "metadata": {
        "id": "CKQXmKXBk_mL"
      }
    },
    {
      "cell_type": "code",
      "source": [
        "# Suggestion: Use the numpy function np.linspace() to generate the time samples, and np.sin() to generate the sine wave.\n",
        "# Be sure to use a sampling frequency that follows Nyquist-Shannon Sampling Theorem\n",
        "# Then use plt.plot() to plot the waveform.\n",
        "# Remember to label your plot axes"
      ],
      "metadata": {
        "id": "uOvFeHxClQ3h"
      },
      "execution_count": null,
      "outputs": []
    },
    {
      "cell_type": "markdown",
      "source": [
        "### Task 2. Create a Python script that applies a low-pass filter to the sine wave generated in task 1. The cutoff frequency of the low-pass filter should be 500 Hz. Plot the filtered waveform using the matplotlib library.\n",
        "\n"
      ],
      "metadata": {
        "id": "EQSULQzvlp_0"
      }
    },
    {
      "cell_type": "code",
      "source": [
        "# Use a Buttworth filter for your lowpass filter. ex. b, a = sig.butter(Order, cutoff, btype = 'low', fs = sampleFrequency)\n",
        "# Order input argument can be between 1-300 (ideally 1-10)\n",
        "# Documentation for sig.butter: https://docs.scipy.org/doc/scipy/reference/generated/scipy.signal.butter.html\n",
        "# Use sig.lfilt() to filter the sine wave. ex. y = sig.lfilt(b, a, x)\n",
        "# Documentation for sig.lfilt(): https://docs.scipy.org/doc/scipy/reference/generated/scipy.signal.lfilter.html\n",
        "# Finally, use plt.plot() to plot the filtered waveform."
      ],
      "metadata": {
        "id": "uoA-8VA8lwPZ"
      },
      "execution_count": null,
      "outputs": []
    },
    {
      "cell_type": "markdown",
      "source": [
        "### Task 3. Create a Python script that applies a high-pass filter to the sine wave generated in task 1. The cutoff frequency of the high-pass filter should be 500 Hz. Plot the filtered waveform using the matplotlib library.\n",
        "\n"
      ],
      "metadata": {
        "id": "iN-in1FdmLe2"
      }
    },
    {
      "cell_type": "code",
      "source": [
        "# Use a Buttworth filter for your highpass filter. ex. b, a = sig.butter(Order, cutoff, btype = 'highpass', fs = sampleFrequency)\n",
        "# Order input argument can be between 1-300 (ideally 1-10)\n",
        "# Documentation for sig.butter: https://docs.scipy.org/doc/scipy/reference/generated/scipy.signal.butter.html\n",
        "# Use sig.lfilt() to filter the sine wave. ex. y = sig.lfilt(b, a, x)\n",
        "# Documentation for sig.lfilt(): https://docs.scipy.org/doc/scipy/reference/generated/scipy.signal.lfilter.html\n",
        "# Finally, use plt.plot() to plot the filtered waveform."
      ],
      "metadata": {
        "id": "c-pacY7wmPis"
      },
      "execution_count": null,
      "outputs": []
    },
    {
      "cell_type": "markdown",
      "source": [
        "### Task 4. Create a Python script that applies a band-pass filter to the sine wave generated in task 1. The cutoff frequencies of the band-pass filter should be 400 Hz and 600 Hz. Plot the filtered waveform using the matplotlib library."
      ],
      "metadata": {
        "id": "jVkIFBAnmgcM"
      }
    },
    {
      "cell_type": "code",
      "source": [
        "# Use a Buttworth filter for your highpass filter. ex. b, a = sig.butter(Order, cutoff, btype = 'highpass', fs = sampleFrequency)\n",
        "# Order input argument can be between 1-300 (ideally 1-10)\n",
        "# Make sure to read on how to input two critical frequencies\n",
        "# Documentation for sig.butter: https://docs.scipy.org/doc/scipy/reference/generated/scipy.signal.butter.html\n",
        "# Use sig.lfilt() to filter the sine wave. ex. y = sig.lfilt(b, a, x)\n",
        "# Documentation for sig.lfilt(): https://docs.scipy.org/doc/scipy/reference/generated/scipy.signal.lfilter.html\n",
        "# Finally, use plt.plot() to plot the filtered waveform."
      ],
      "metadata": {
        "id": "us5CXicjmmKO"
      },
      "execution_count": null,
      "outputs": []
    },
    {
      "cell_type": "markdown",
      "source": [
        "### Task 5. Create a Python script that performs convolution of the sine wave generated in task 1 with a rectangular window of length 100 samples. Plot the convolved signal using the matplotlib library."
      ],
      "metadata": {
        "id": "mPegjw2onK-t"
      }
    },
    {
      "cell_type": "code",
      "source": [
        "# Suggestion: Create a rectangular window of length 100 samples using the np.ones() function.\n",
        "# Then use the convolve() function from numpy to perform the convolution.\n",
        "# Finally, use plt.plot() to plot the convolved signal."
      ],
      "metadata": {
        "id": "pt4NYHpynN0t"
      },
      "execution_count": null,
      "outputs": []
    },
    {
      "cell_type": "markdown",
      "source": [
        "### Task 6. Create a Python script that performs moving average of the sine wave generated in task 1 with a window of length 10 samples. Plot the filtered signal using the matplotlib library."
      ],
      "metadata": {
        "id": "Tf8s1klInXx9"
      }
    },
    {
      "cell_type": "code",
      "source": [
        "# Suggestion: Use the numpy function np.convolve() with mode='valid' to perform the moving average.\n",
        "# Can also be accomplished with for/while loop\n",
        "# Then use plt.plot() to plot the filtered signal."
      ],
      "metadata": {
        "id": "8mHLaaPQnacj"
      },
      "execution_count": null,
      "outputs": []
    },
    {
      "cell_type": "markdown",
      "source": [
        "### 7. Compare the filtered waveforms obtained in tasks 2, 3, 4, 5 and 6 with the original waveform generated in task 1. Write a a few paragraphs in your notebook explaining the results obtained and the implications of each filter/operation type on the signal."
      ],
      "metadata": {
        "id": "4jgH6opfntsQ"
      }
    },
    {
      "cell_type": "markdown",
      "source": [],
      "metadata": {
        "id": "kwLxlPsappdT"
      }
    },
    {
      "cell_type": "markdown",
      "source": [
        "## Part 2: Advanced DSP Applications in Python"
      ],
      "metadata": {
        "id": "uRHhzo8onyRa"
      }
    },
    {
      "cell_type": "markdown",
      "source": [
        "### Task 1. Create a Python script that generates a signal that is a sum of two sine waves with different frequencies and amplitudes. The first sine wave should have a frequency of 1000 Hz and an amplitude of 1, the second sine wave should have a frequency of 2000 Hz and an amplitude of 0.5. Plot the waveform using the matplotlib library."
      ],
      "metadata": {
        "id": "kR6MeD4Rn1O5"
      }
    },
    {
      "cell_type": "code",
      "source": [
        "# Suggestions:\n",
        "# - Use the numpy library's sine function to generate the sine waves\n",
        "# - Use the numpy library's arange function to create an array of time values\n",
        "# - Use the matplotlib library's plot function to plot the waveform"
      ],
      "metadata": {
        "id": "ZPfLJkJrn4kc"
      },
      "execution_count": null,
      "outputs": []
    },
    {
      "cell_type": "markdown",
      "source": [
        "### Task 2. Create a Python script that applies a Butterworth filter to the signal generated in task 1. The cutoff frequency of the filter should be 1500 Hz and the filter order should be 4. Plot the filtered waveform using the matplotlib library."
      ],
      "metadata": {
        "id": "mZkv2nN7oMGd"
      }
    },
    {
      "cell_type": "code",
      "source": [
        "# Suggestions:\n",
        "# - Use the scipy library's signal butter function to generate the Butterworth filter\n",
        "# - Use the scipy library's lfilter function to apply the filter to the signal\n",
        "# - Use the matplotlib library's plot function to plot the filtered waveform\n",
        "# - Documentation for sig.butter: https://docs.scipy.org/doc/scipy/reference/generated/scipy.signal.butter.html\n",
        "# - Documentation for sig.lfilt(): https://docs.scipy.org/doc/scipy/reference/generated/scipy.signal.lfilter.html"
      ],
      "metadata": {
        "id": "eJ3ziMSDoN2T"
      },
      "execution_count": null,
      "outputs": []
    },
    {
      "cell_type": "markdown",
      "source": [
        "### Task 3. Create a Python script that computes the Fast Fourier Transform (FFT) of the signal generated in task 1. Plot the magnitude and phase of the FFT using the matplotlib library."
      ],
      "metadata": {
        "id": "JlY9ONjyomiK"
      }
    },
    {
      "cell_type": "code",
      "source": [
        "# Use the fft function to get the Fourier Transform of the sine wave. ex. X = fft(x)\n",
        "# Documentation for fft: https://docs.scipy.org/doc/scipy/reference/generated/scipy.fft.fft.html\n",
        "# To get the magnitude of the fft use np.abs(). ex. mag = np.abs(X)\n",
        "# To get the phase of the fft use np.angle(). ex. phase = np.angle(X)\n",
        "# Additionally, you can use fftfreq to get the independent axis for your plots. ex. freq = fftfreq(len(X), 1/fs)\n",
        "# Documentation for fftfreq: https://docs.scipy.org/doc/scipy/reference/generated/scipy.fft.fftfreq.html"
      ],
      "metadata": {
        "id": "O7sVrGHSopG4"
      },
      "execution_count": null,
      "outputs": []
    }
  ]
}