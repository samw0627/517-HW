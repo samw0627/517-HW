{
 "cells": [
  {
   "cell_type": "markdown",
   "metadata": {
    "id": "JLRJNDGiPU37"
   },
   "source": [
    "## TECHIN 513 - Basic ML\n",
    "\n",
    "**Instructions**\n",
    "\n",
    "Install the required packages (scikit-learn, TensorFlow, Keras, PyTorch, and, pandas) if they are not already installed."
   ]
  },
  {
   "cell_type": "code",
   "execution_count": 1,
   "metadata": {
    "id": "JVHNfDPhPjyw",
    "tags": []
   },
   "outputs": [],
   "source": [
    "\n",
    "\n",
    "# Import necessary packages\n",
    "import numpy as np\n",
    "from sklearn import datasets\n",
    "from sklearn.model_selection import train_test_split\n",
    "from sklearn.ensemble import RandomForestClassifier \n",
    "import tensorflow as tf\n",
    "from tensorflow import keras\n",
    "from keras.utils import to_categorical\n",
    "from keras.models import Sequential\n",
    "from keras.layers import Dense, Flatten\n",
    "import torch\n",
    "import torch.nn as nn\n",
    "import torch.optim as optim\n",
    "\n",
    "\n"
   ]
  },
  {
   "cell_type": "code",
   "execution_count": 2,
   "metadata": {},
   "outputs": [],
   "source": [
    "# Task 1: Load the Iris dataset\n",
    "iris = datasets.load_iris()\n",
    "X = iris.data\n",
    "y = iris.target"
   ]
  },
  {
   "cell_type": "code",
   "execution_count": 3,
   "metadata": {
    "tags": []
   },
   "outputs": [],
   "source": [
    "# Task 2: Split the data into training and testing sets\n",
    "# use train_test_split function to split the data with test_size = 0.2 and random_state = 42\n",
    "X_train, X_test, y_train, y_test = train_test_split(X, y, test_size=0.2, random_state=42)"
   ]
  },
  {
   "cell_type": "code",
   "execution_count": 4,
   "metadata": {},
   "outputs": [
    {
     "data": {
      "text/html": [
       "<style>#sk-container-id-1 {color: black;}#sk-container-id-1 pre{padding: 0;}#sk-container-id-1 div.sk-toggleable {background-color: white;}#sk-container-id-1 label.sk-toggleable__label {cursor: pointer;display: block;width: 100%;margin-bottom: 0;padding: 0.3em;box-sizing: border-box;text-align: center;}#sk-container-id-1 label.sk-toggleable__label-arrow:before {content: \"▸\";float: left;margin-right: 0.25em;color: #696969;}#sk-container-id-1 label.sk-toggleable__label-arrow:hover:before {color: black;}#sk-container-id-1 div.sk-estimator:hover label.sk-toggleable__label-arrow:before {color: black;}#sk-container-id-1 div.sk-toggleable__content {max-height: 0;max-width: 0;overflow: hidden;text-align: left;background-color: #f0f8ff;}#sk-container-id-1 div.sk-toggleable__content pre {margin: 0.2em;color: black;border-radius: 0.25em;background-color: #f0f8ff;}#sk-container-id-1 input.sk-toggleable__control:checked~div.sk-toggleable__content {max-height: 200px;max-width: 100%;overflow: auto;}#sk-container-id-1 input.sk-toggleable__control:checked~label.sk-toggleable__label-arrow:before {content: \"▾\";}#sk-container-id-1 div.sk-estimator input.sk-toggleable__control:checked~label.sk-toggleable__label {background-color: #d4ebff;}#sk-container-id-1 div.sk-label input.sk-toggleable__control:checked~label.sk-toggleable__label {background-color: #d4ebff;}#sk-container-id-1 input.sk-hidden--visually {border: 0;clip: rect(1px 1px 1px 1px);clip: rect(1px, 1px, 1px, 1px);height: 1px;margin: -1px;overflow: hidden;padding: 0;position: absolute;width: 1px;}#sk-container-id-1 div.sk-estimator {font-family: monospace;background-color: #f0f8ff;border: 1px dotted black;border-radius: 0.25em;box-sizing: border-box;margin-bottom: 0.5em;}#sk-container-id-1 div.sk-estimator:hover {background-color: #d4ebff;}#sk-container-id-1 div.sk-parallel-item::after {content: \"\";width: 100%;border-bottom: 1px solid gray;flex-grow: 1;}#sk-container-id-1 div.sk-label:hover label.sk-toggleable__label {background-color: #d4ebff;}#sk-container-id-1 div.sk-serial::before {content: \"\";position: absolute;border-left: 1px solid gray;box-sizing: border-box;top: 0;bottom: 0;left: 50%;z-index: 0;}#sk-container-id-1 div.sk-serial {display: flex;flex-direction: column;align-items: center;background-color: white;padding-right: 0.2em;padding-left: 0.2em;position: relative;}#sk-container-id-1 div.sk-item {position: relative;z-index: 1;}#sk-container-id-1 div.sk-parallel {display: flex;align-items: stretch;justify-content: center;background-color: white;position: relative;}#sk-container-id-1 div.sk-item::before, #sk-container-id-1 div.sk-parallel-item::before {content: \"\";position: absolute;border-left: 1px solid gray;box-sizing: border-box;top: 0;bottom: 0;left: 50%;z-index: -1;}#sk-container-id-1 div.sk-parallel-item {display: flex;flex-direction: column;z-index: 1;position: relative;background-color: white;}#sk-container-id-1 div.sk-parallel-item:first-child::after {align-self: flex-end;width: 50%;}#sk-container-id-1 div.sk-parallel-item:last-child::after {align-self: flex-start;width: 50%;}#sk-container-id-1 div.sk-parallel-item:only-child::after {width: 0;}#sk-container-id-1 div.sk-dashed-wrapped {border: 1px dashed gray;margin: 0 0.4em 0.5em 0.4em;box-sizing: border-box;padding-bottom: 0.4em;background-color: white;}#sk-container-id-1 div.sk-label label {font-family: monospace;font-weight: bold;display: inline-block;line-height: 1.2em;}#sk-container-id-1 div.sk-label-container {text-align: center;}#sk-container-id-1 div.sk-container {/* jupyter's `normalize.less` sets `[hidden] { display: none; }` but bootstrap.min.css set `[hidden] { display: none !important; }` so we also need the `!important` here to be able to override the default hidden behavior on the sphinx rendered scikit-learn.org. See: https://github.com/scikit-learn/scikit-learn/issues/21755 */display: inline-block !important;position: relative;}#sk-container-id-1 div.sk-text-repr-fallback {display: none;}</style><div id=\"sk-container-id-1\" class=\"sk-top-container\"><div class=\"sk-text-repr-fallback\"><pre>RandomForestClassifier(max_depth=2, random_state=42)</pre><b>In a Jupyter environment, please rerun this cell to show the HTML representation or trust the notebook. <br />On GitHub, the HTML representation is unable to render, please try loading this page with nbviewer.org.</b></div><div class=\"sk-container\" hidden><div class=\"sk-item\"><div class=\"sk-estimator sk-toggleable\"><input class=\"sk-toggleable__control sk-hidden--visually\" id=\"sk-estimator-id-1\" type=\"checkbox\" checked><label for=\"sk-estimator-id-1\" class=\"sk-toggleable__label sk-toggleable__label-arrow\">RandomForestClassifier</label><div class=\"sk-toggleable__content\"><pre>RandomForestClassifier(max_depth=2, random_state=42)</pre></div></div></div></div></div>"
      ],
      "text/plain": [
       "RandomForestClassifier(max_depth=2, random_state=42)"
      ]
     },
     "execution_count": 4,
     "metadata": {},
     "output_type": "execute_result"
    }
   ],
   "source": [
    "# Task 3: Train a Random Forest Classifier on the training data\n",
    "# import RandomForestClassifier from sklearn and fit it with training data\n",
    "clf = RandomForestClassifier(n_estimators=100, max_depth=2, random_state=42)\n",
    "clf.fit(X_train,y_train)"
   ]
  },
  {
   "cell_type": "code",
   "execution_count": 5,
   "metadata": {
    "tags": []
   },
   "outputs": [
    {
     "name": "stdout",
     "output_type": "stream",
     "text": [
      "Accuracy of classifier:  1.0\n"
     ]
    }
   ],
   "source": [
    "# Task 4: Evaluate the classifier on the testing data\n",
    "# use clf.score function to evaluate the classifier on the testing data\n",
    "# print the accuracy of the classifier\n",
    "accuracy = clf.score(X_test, y_test)\n",
    "print(\"Accuracy of classifier: \",accuracy)"
   ]
  },
  {
   "cell_type": "code",
   "execution_count": 6,
   "metadata": {
    "tags": []
   },
   "outputs": [],
   "source": [
    "# Task 5: Load the MNIST dataset\n",
    "# use keras.datasets.mnist.load_data() to load the dataset\n",
    "(trainImages, trainLabels), (testImages, testLabels) = keras.datasets.mnist.load_data()\n"
   ]
  },
  {
   "cell_type": "code",
   "execution_count": 7,
   "metadata": {
    "tags": []
   },
   "outputs": [],
   "source": [
    "# Task 6: Preprocess the data\n",
    "# normalize the data by dividing by 255.0\n",
    "# use to_categorical from keras.utils to one-hot encode the labels\n",
    "trainImages = trainImages.reshape((60000, 28 * 28))/255.0\n",
    "testImages = testImages.reshape((10000, 28 * 28))/255.0\n",
    "\n",
    "trainLabels = to_categorical(trainLabels)\n",
    "testLabels = to_categorical(testLabels)"
   ]
  },
  {
   "cell_type": "code",
   "execution_count": 8,
   "metadata": {
    "tags": []
   },
   "outputs": [
    {
     "name": "stdout",
     "output_type": "stream",
     "text": [
      "Epoch 1/10\n",
      "422/422 [==============================] - 1s 1ms/step - loss: 0.3809 - accuracy: 0.8968 - val_loss: 0.1676 - val_accuracy: 0.9560\n",
      "Epoch 2/10\n",
      "422/422 [==============================] - 0s 1ms/step - loss: 0.1746 - accuracy: 0.9500 - val_loss: 0.1230 - val_accuracy: 0.9655\n",
      "Epoch 3/10\n",
      "422/422 [==============================] - 0s 1ms/step - loss: 0.1274 - accuracy: 0.9632 - val_loss: 0.1008 - val_accuracy: 0.9717\n",
      "Epoch 4/10\n",
      "422/422 [==============================] - 0s 1ms/step - loss: 0.0991 - accuracy: 0.9714 - val_loss: 0.0944 - val_accuracy: 0.9730\n",
      "Epoch 5/10\n",
      "422/422 [==============================] - 0s 1ms/step - loss: 0.0805 - accuracy: 0.9767 - val_loss: 0.0866 - val_accuracy: 0.9728\n",
      "Epoch 6/10\n",
      "422/422 [==============================] - 0s 1ms/step - loss: 0.0680 - accuracy: 0.9806 - val_loss: 0.0812 - val_accuracy: 0.9757\n",
      "Epoch 7/10\n",
      "422/422 [==============================] - 0s 1ms/step - loss: 0.0560 - accuracy: 0.9847 - val_loss: 0.0746 - val_accuracy: 0.9775\n",
      "Epoch 8/10\n",
      "422/422 [==============================] - 1s 1ms/step - loss: 0.0476 - accuracy: 0.9866 - val_loss: 0.0746 - val_accuracy: 0.9783\n",
      "Epoch 9/10\n",
      "422/422 [==============================] - 0s 1ms/step - loss: 0.0409 - accuracy: 0.9886 - val_loss: 0.0722 - val_accuracy: 0.9783\n",
      "Epoch 10/10\n",
      "422/422 [==============================] - 0s 1ms/step - loss: 0.0359 - accuracy: 0.9902 - val_loss: 0.0787 - val_accuracy: 0.9762\n"
     ]
    },
    {
     "data": {
      "text/plain": [
       "<keras.src.callbacks.History at 0x294ebe650>"
      ]
     },
     "execution_count": 8,
     "metadata": {},
     "output_type": "execute_result"
    }
   ],
   "source": [
    "# Task 7: Define and train a simple neural network using Keras\n",
    "# use Sequential model from keras.models\n",
    "model = Sequential([\n",
    "    Flatten(input_shape=(28*28,)),\n",
    "    # use Dense layer from keras.layers\n",
    "    Dense(128, activation='relu'), \n",
    "    Dense(10, activation='softmax')\n",
    "])\n",
    "# use 'adam' as optimizer and 'categorical_crossentropy' as loss function\n",
    "model.compile(optimizer='adam', loss=\"categorical_crossentropy\", metrics=['accuracy']) \n",
    "# use model.fit to train the model\n",
    "model.fit(trainImages, trainLabels,epochs=10, batch_size=128, validation_split=0.1)"
   ]
  },
  {
   "cell_type": "code",
   "execution_count": 9,
   "metadata": {
    "tags": []
   },
   "outputs": [
    {
     "name": "stdout",
     "output_type": "stream",
     "text": [
      "313/313 [==============================] - 0s 474us/step - loss: 0.0788 - accuracy: 0.9760\n",
      "Loss: 0.07880433648824692, Accuracy: 0.9760000109672546\n"
     ]
    }
   ],
   "source": [
    "# Task 8: Evaluate the neural network on the testing data\n",
    "# use model.evaluate to get the test loss and test accuracy\n",
    "testLoss, testAccruacy = model.evaluate(testImages, testLabels)\n",
    "print(f\"Loss: {testLoss}, Accuracy: {testAccruacy}\")"
   ]
  },
  {
   "cell_type": "code",
   "execution_count": 18,
   "metadata": {},
   "outputs": [],
   "source": [
    "# Task 9: Define a simple linear regression model using PyTorch\n",
    "# create a class LinearRegression that inherit from nn.Module\n",
    "# define the constructor and forward function\n",
    "class LinearRegression(nn.Module):\n",
    "    def __init__(self, input_size, output_size):\n",
    "        super(LinearRegression, self).__init__()\n",
    "        self.linear = nn.Linear(input_size, output_size)\n",
    "        \n",
    "    def forward(self, x):\n",
    "        return self.linear(x)"
   ]
  },
  {
   "cell_type": "code",
   "execution_count": 19,
   "metadata": {
    "tags": []
   },
   "outputs": [],
   "source": [
    "#Data preparation\n",
    "X_train = np.array([[14.0], [3.0], [73.0]], dtype=np.float32)\n",
    "y_train = np.array([[1.0], [8.0], [33.0]], dtype=np.float32)\n",
    "\n",
    "X_train = torch.from_numpy(X_train)\n",
    "y_train = torch.from_numpy(y_train)\n"
   ]
  },
  {
   "cell_type": "code",
   "execution_count": 20,
   "metadata": {},
   "outputs": [
    {
     "name": "stdout",
     "output_type": "stream",
     "text": [
      "Epoch [10/20], Bias: 3992647892992.0, Weight: 245435352481792.0\n",
      "Epoch [20/20], Bias: 1.4209528730865899e+28, Weight: 8.734855502354766e+29\n"
     ]
    }
   ],
   "source": [
    "# Task 10: Train the linear regression model on some dummy data and print the weight and bias\n",
    "# create an instance of LinearRegression\n",
    "# use nn.MSELoss as criterion, optim.SGD as optimizer\n",
    "model = LinearRegression(input_size =1,output_size=1)\n",
    "criterion = nn.MSELoss()\n",
    "optimizer = optim.SGD(model.parameters(), lr=0.01)\n",
    "\n",
    "#train model in 20 iterations\n",
    "num_epochs = 20\n",
    "\n",
    "for epoch in range(num_epochs):\n",
    "    optimizer.zero_grad()\n",
    "    # use model.parameters() as input for optimizer\n",
    "    outputs = model(X_train)\n",
    "    bias = criterion(outputs, y_train)\n",
    "    bias.backward()\n",
    "    # use optimizer.step() and criterion to update the model weight and bias\n",
    "    optimizer.step()\n",
    "    \n",
    "    if (epoch+1) % 10 == 0:\n",
    "        print(f'Epoch [{epoch+1}/{num_epochs}], Bias: {model.linear.bias.item()}, Weight: {model.linear.weight.item()}')\n",
    "    "
   ]
  },
  {
   "cell_type": "markdown",
   "metadata": {
    "id": "goIaALYXVy1J"
   },
   "source": [
    "# Bonus"
   ]
  },
  {
   "cell_type": "code",
   "execution_count": 13,
   "metadata": {
    "id": "-ZYu5X7gV1L9",
    "tags": []
   },
   "outputs": [],
   "source": [
    "# Bonus Task: Implement a Convolutional Neural Network to classify the CIFAR-10 dataset\n",
    "# use torchvision.datasets.CIFAR10 to load the dataset\n",
    "# create a class CNN that inherit from nn.Module\n",
    "# define the constructor, forward function and the network architecture\n",
    "# use CrossEntropyLoss as criterion, optim.SGD as optimizer\n",
    "# use model.parameters() as input for optimizer\n",
    "# use optimizer.step() and criterion to update the model weight and bias\n"
   ]
  }
 ],
 "metadata": {
  "colab": {
   "provenance": []
  },
  "kernelspec": {
   "display_name": "Python 3 (ipykernel)",
   "language": "python",
   "name": "python3"
  },
  "language_info": {
   "codemirror_mode": {
    "name": "ipython",
    "version": 3
   },
   "file_extension": ".py",
   "mimetype": "text/x-python",
   "name": "python",
   "nbconvert_exporter": "python",
   "pygments_lexer": "ipython3",
   "version": "3.11.5"
  }
 },
 "nbformat": 4,
 "nbformat_minor": 4
}
