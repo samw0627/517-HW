{
 "cells": [
  {
   "cell_type": "markdown",
   "metadata": {
    "id": "i1Pzyt6UMEBe"
   },
   "source": [
    "## TECHIN 513 HW1 – Modifying Signals\n",
    "\n",
    "Author names go here \n",
    "\n",
    "(This should be a markup cell, which means that when you run it you just get formated text.)"
   ]
  },
  {
   "cell_type": "code",
   "execution_count": 1,
   "metadata": {
    "id": "RirlpKpeMEBh",
    "tags": []
   },
   "outputs": [],
   "source": [
    "# We'll refer to this as the \"import cell.\" Every module you import should be imported here.\n",
    "#%matplotlib notebook\n",
    "import numpy as np\n",
    "import matplotlib\n",
    "import matplotlib.pyplot as plt\n",
    "# import whatever other modules you use in this lab -- there are more that you need than we've included \n",
    "import simpleaudio as sa\n",
    "from scipy.io import wavfile as wav"
   ]
  },
  {
   "cell_type": "markdown",
   "metadata": {
    "id": "I7BSBvphMEBi"
   },
   "source": [
    "## Summary\n",
    "\n",
    "In this lab, you will work through a series of exercises to introduce you to working with audio signals and explore the impact of different amplitude and time operations on signals.  This is a two-week hw.  You should plan on completing the first 2 assignments in the first week."
   ]
  },
  {
   "cell_type": "markdown",
   "metadata": {
    "id": "hzorGZexMEBj"
   },
   "source": [
    "## HW 1 turn in checklist\n",
    "\n",
    "•\tyour Jupyter or Colab notbooks (uploaded as .pdf with your outputs).\n",
    "\n",
    "Note: You can work together but you need to submit your own work. do not copy paste from each other\n"
   ]
  },
  {
   "cell_type": "markdown",
   "metadata": {
    "id": "P5L06vQBMEBk"
   },
   "source": [
    "## Assignment 1 -- Working with sound files"
   ]
  },
  {
   "cell_type": "code",
   "execution_count": 2,
   "metadata": {
    "id": "d6OifVTqMEBk",
    "tags": []
   },
   "outputs": [],
   "source": [
    "# Assignment 1 - Time Scaling Function\n",
    "\n",
    "# Part A\n",
    "\n",
    "# Start with a comment section that explains what the input and output variables are, e.g.\n",
    "# x: input signal vector\n",
    "# fs: sampling rate (in Hz)\n",
    "# a: scaling parameter. This has to be a decimal value for as_integer_ratio to work. \n",
    "# So, explicitly casting it into a float or a double or any fractional data type will help.\n",
    "# returns t: time samples vector corresponding to y: scaled signal\n",
    "\n",
    "def timescale(x, fs, a):\n",
    "    #n, d = decimal.Decimal(a).as_integer_ratio()\n",
    "    [n, d] = (np.double(a)).as_integer_ratio()\n",
    "    y = sig.resample_poly(x,d,n)\n",
    "    t = np.arange(0,len(y),1)*(1.0/fs)\n",
    "    return y,t\n"
   ]
  },
  {
   "cell_type": "code",
   "execution_count": 3,
   "metadata": {
    "id": "Qwo8ceLIMEBl",
    "tags": []
   },
   "outputs": [
    {
     "name": "stdout",
     "output_type": "stream",
     "text": [
      "The sample rate is  32000  and the shape is  (50313,)\n"
     ]
    }
   ],
   "source": [
    "# Assignment 1 - Playing and Plotting Time Scaled Audio Files \n",
    "\n",
    "# Part B\n",
    "# TODO: Code that solves B\n",
    "fs1, x1 = wav.read(\"train32.wav\")\n",
    "print(\"The sample rate is \",fs1, \" and the shape is \", x1.shape)\n",
    "fs2 = fs1/2\n",
    "wav.write(\"train32_a.wav\",int(fs2),x1)\n",
    "fs3= 1.5*fs1\n",
    "wav.write(\"train32_b.wav\",int(fs3),x1)\n",
    "# Part C\n",
    "# TODO: Code that solves C\n",
    "wav_obj = sa.WaveObject.from_wave_file('train32.wav')\n",
    "wav_obj2 = sa.WaveObject.from_wave_file('train32_a.wav')\n",
    "wav_obj3 = sa.WaveObject.from_wave_file('train32_b.wav')\n",
    "\n",
    "play_obj_1 = wav_obj.play()\n",
    "play_obj_1.wait_done()\n",
    "\n",
    "play_obj_2 = wav_obj2.play()\n",
    "play_obj_2.wait_done()\n",
    "\n",
    "play_obj_3 = wav_obj3.play()\n",
    "play_obj_3.wait_done()\n"
   ]
  },
  {
   "cell_type": "markdown",
   "metadata": {
    "id": "s_yp4IAyMEBl"
   },
   "source": [
    "###  Discussion\n",
    "\n",
    "Comment on how the audio changes when the incorrect sampling frequency is used.\n",
    "\n",
    "When a higher sample rate is used, the audio became higher pitched and shorter duration. When a lower sample rate is used,  the audio became lower pitched with longer duration."
   ]
  },
  {
   "cell_type": "markdown",
   "metadata": {
    "id": "zZ4rlRG4MEBm"
   },
   "source": [
    "## Assignment 2 -- Amplitude Operations on Signals"
   ]
  },
  {
   "cell_type": "code",
   "execution_count": 29,
   "metadata": {
    "id": "GMVCiB8jMEBm",
    "tags": []
   },
   "outputs": [
    {
     "name": "stdout",
     "output_type": "stream",
     "text": [
      "x1 [-901 -943 -646 ...  330  169   45]\n"
     ]
    }
   ],
   "source": [
    "# Assignment 2 - Amplitude Operations on Signals\n",
    "play_obj_1 = wav_obj.play()\n",
    "play_obj_1.wait_done()\n",
    "# Part A\n",
    "# TODO: Code that solves A\n",
    "# Start with a comment section that explains what the input variables are\n",
    "n0 = 16000\n",
    "s1 = np.concatenate((np.ones(n0),0.2*np.ones(len(x1)-n0)))\n",
    "v1 = x1*s1\n",
    "print(\"x1\",x1)\n",
    "wav.write(\"new.wav\",int(fs1),v1.astype(np.int16))\n",
    "wav_obj4 = sa.WaveObject.from_wave_file('new.wav')\n",
    "play_obj_4 = wav_obj4.play()\n",
    "play_obj_4.wait_done()\n"
   ]
  },
  {
   "cell_type": "code",
   "execution_count": 30,
   "metadata": {
    "id": "CUjCqx-zMEBn",
    "tags": []
   },
   "outputs": [],
   "source": [
    "# Assignment 2 - Title of Assignment 2\n",
    "\n",
    "# Part B\n",
    "r1 = np.arange(1,0,-(1/len(x1)))\n",
    "\n",
    "v2 = r1*x1\n",
    "wav.write(\"train32_d.wav\",int(fs1),v2.astype(np.int16))\n",
    "wav_obj5 = sa.WaveObject.from_wave_file('train32_d.wav')\n",
    "\n",
    "play_obj_5= wav_obj5.play()\n",
    "play_obj_5.wait_done()\n"
   ]
  },
  {
   "cell_type": "markdown",
   "metadata": {
    "id": "pjXQ1FJTMEBn"
   },
   "source": [
    "###  Discussion\n",
    "\n",
    "Discuss the differences that the two modifications have on the signal. What would happen if you defined s1 to take value 2 for the [0,0.5] range? If you wanted a smooth but faster decay in amplitude, what signal might you use? \n",
    "\n"
   ]
  },
  {
   "cell_type": "markdown",
   "metadata": {
    "id": "sLTSfIRSMEBn"
   },
   "source": [
    "## Assignment 3 -- Time Scaling Audio Signals "
   ]
  },
  {
   "cell_type": "code",
   "execution_count": null,
   "metadata": {
    "id": "wOXro6zmMEBn"
   },
   "outputs": [],
   "source": [
    "# Assignment 3 -- Title of assignment 3\n",
    "\n",
    "# Part A\n",
    "# TODO: Code that solves A\n",
    "\n",
    "# Part B\n",
    "# TODO: Code that solves B\n",
    "\n",
    "# Part C\n",
    "# TODO: Code that solves C\n",
    "\n",
    "# Part D\n",
    "# TODO: Code that solves D\n"
   ]
  },
  {
   "cell_type": "markdown",
   "metadata": {
    "id": "67Hdx23WMEBo"
   },
   "source": [
    "###  Discussion\n",
    "\n",
    "Suppose a student runs the figure command before every call to subplot. When you run your script, what changes do you expect to see? How will the plots change?"
   ]
  },
  {
   "cell_type": "markdown",
   "metadata": {
    "id": "zAqTbm56MEBo"
   },
   "source": [
    "## Assignment 4 -- Time Shift Operations"
   ]
  },
  {
   "cell_type": "code",
   "execution_count": null,
   "metadata": {
    "id": "iCBVCMOGMEBo"
   },
   "outputs": [],
   "source": [
    "# Part A\n",
    "# TODO: Code that solves A\n",
    "\n",
    "# Part B\n",
    "# TODO: Code that solves B\n",
    "\n",
    "# Part C\n",
    "# TODO: Code that solves C"
   ]
  },
  {
   "cell_type": "markdown",
   "metadata": {
    "id": "duo6O8G7MEBo"
   },
   "source": [
    "### Discussion\n",
    "\n",
    "There is a trivial case that you should ideally test for. If the shift is zero, then the output is the original signal. If the shift is an advance bigger than the original signal, then the output will be zero. Comment on whether your current implementation correctly handles these cases and whether there is a better implementation.\n"
   ]
  }
 ],
 "metadata": {
  "colab": {
   "provenance": []
  },
  "kernelspec": {
   "display_name": "Python 3 (ipykernel)",
   "language": "python",
   "name": "python3"
  },
  "language_info": {
   "codemirror_mode": {
    "name": "ipython",
    "version": 3
   },
   "file_extension": ".py",
   "mimetype": "text/x-python",
   "name": "python",
   "nbconvert_exporter": "python",
   "pygments_lexer": "ipython3",
   "version": "3.11.5"
  }
 },
 "nbformat": 4,
 "nbformat_minor": 4
}
